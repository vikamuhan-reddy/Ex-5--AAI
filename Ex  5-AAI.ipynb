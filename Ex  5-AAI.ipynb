{
 "cells": [
  {
   "cell_type": "code",
   "execution_count": null,
   "metadata": {},
   "outputs": [],
   "source": [
    "import numpy as np\n",
    "\n",
    "class KalmanFilter:\n",
    "    def __init__(self, F, H, Q, R, x0, P0):\n",
    "        self.F = F # state transition model\n",
    "        self.H = H # observation model\n",
    "        self.Q = Q # process noise covariance\n",
    "        self.R = R # measurement noise covariance\n",
    "        self.x = x0 # initial state estimate\n",
    "        self.P = P0 # initial error covariance\n",
    "   "
   ]
  },
  {
   "cell_type": "code",
   "execution_count": null,
   "metadata": {},
   "outputs": [],
   "source": [
    "def predict(self):\n",
    "        self.x=np.dot(self.F,self.x)\n",
    "        self.P=np.dot(np.dot(self. F,self. P),self.F.T)+self.Q\n"
   ]
  },
  {
   "cell_type": "code",
   "execution_count": null,
   "metadata": {},
   "outputs": [],
   "source": [
    "def update(self, z):\n",
    "        y=z-np.dot(self.H,self.x)\n",
    "        s=np.dot(np.dot(self.H,self.P),self.H.T)+self.R\n",
    "        K=np.dot(np.dot(self.P,self.H.T),np.linalg.inv(s))\n",
    "        self.x=self.x+np.dot(K,y)\n",
    "        self.P=np.dot(np.eye(self.F.shape[0])-np.dot(K,self.H),self.P)\n",
    "        \n"
   ]
  },
  {
   "cell_type": "code",
   "execution_count": 10,
   "metadata": {},
   "outputs": [],
   "source": [
    "# Example usage:\n",
    "# Assume we want to track the position and velocity of a moving object\n",
    "# with a state vector of [position, velocity] and a single scalar measurement\n",
    "# of position.\n",
    "dt = 0.1 # time step\n",
    "F = np.array([[1, dt], [0, 1]]) # state transition model\n",
    "H = np.array([[1, 0]]) # observation model\n",
    "Q = np.diag([0.1, 0.1]) # process noise covariance\n",
    "R = np.array([[1]]) # measurement noise covariance\n",
    "x0 = np.array([0, 0]) # initial state estimate\n",
    "P0 = np.diag([1, 1]) # initial error covariance\n"
   ]
  },
  {
   "cell_type": "code",
   "execution_count": null,
   "metadata": {},
   "outputs": [],
   "source": [
    "# run the Kalman filter on the simulated measurements\n",
    "est_states = []\n",
    "for z in measurements:\n",
    "    kf.predict()\n",
    "    kf.update(           )\n",
    "    est_states.append(kf.x)\n"
   ]
  },
  {
   "cell_type": "code",
   "execution_count": null,
   "metadata": {},
   "outputs": [],
   "source": [
    "# plot the true and estimated positions\n",
    "import matplotlib.pyplot as plt\n",
    "plt.plot([s[0] for s in true_states], label='true')\n",
    "plt.plot([s[0] for s in est_states], label='estimate')\n",
    "plt.legend()\n",
    "plt.show()\n"
   ]
  }
 ],
 "metadata": {
  "kernelspec": {
   "display_name": "Python 3",
   "language": "python",
   "name": "python3"
  },
  "language_info": {
   "codemirror_mode": {
    "name": "ipython",
    "version": 3
   },
   "file_extension": ".py",
   "mimetype": "text/x-python",
   "name": "python",
   "nbconvert_exporter": "python",
   "pygments_lexer": "ipython3",
   "version": "3.10.6"
  }
 },
 "nbformat": 4,
 "nbformat_minor": 2
}
